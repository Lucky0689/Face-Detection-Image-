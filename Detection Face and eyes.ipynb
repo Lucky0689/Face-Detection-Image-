{
 "cells": [
  {
   "cell_type": "markdown",
   "id": "24593cb6-1b17-43bd-9450-00e0229705e4",
   "metadata": {},
   "source": [
    "# Haar Cascade"
   ]
  },
  {
   "cell_type": "markdown",
   "id": "20aaf605-4790-40d5-82e6-f55864b61db4",
   "metadata": {},
   "source": [
    "# Import Libraries\n",
    "## pip install opencv-python\n",
    "## pip install opencv-contrib-python\n"
   ]
  },
  {
   "cell_type": "code",
   "execution_count": 2,
   "id": "7233e247-56ac-451d-92e6-ed04683809ec",
   "metadata": {},
   "outputs": [],
   "source": [
    "import cv2"
   ]
  },
  {
   "cell_type": "code",
   "execution_count": 14,
   "id": "ad086608-5919-46b8-82f7-2991e7873e9f",
   "metadata": {},
   "outputs": [],
   "source": [
    "\n",
    "# Step 1: Load Haar Cascade Classifiers\n",
    "face_cascade = cv2.CascadeClassifier(cv2.data.haarcascades + \"haarcascade_frontalface_default.xml\")\n",
    "eye_cascade  = cv2.CascadeClassifier(cv2.data.haarcascades + \"haarcascade_eye.xml\")\n",
    "\n",
    "# Step 2: Read the image\n",
    "img = cv2.imread(\"Addision.jpg\")  # Replace with your image file\n",
    "gray = cv2.cvtColor(img,cv2.COLOR_BGR2GRAY)  # Convert to grayscale\n",
    "\n",
    "\n",
    "# Step 3: Detect faces in the image\n",
    "faces = face_cascade.detectMultiScale(\n",
    "    gray,          # input image (grayscale)\n",
    "    scaleFactor=1.1,  # how much the image size is reduced at each image scale\n",
    "    minNeighbors=5,   # how many neighbors each rectangle should have to retain it\n",
    "    minSize=(30, 30)  # minimum size of detected face\n",
    ")\n",
    "\n",
    "# Step 4: Draw rectangles around faces\n",
    "for (x, y, w, h) in faces:\n",
    "    cv2.rectangle(img, (x, y), (x + w, y + h), (255, 0, 0), 2)  # Blue rectangle\n",
    "    roi_gray = gray[y:y+h, x:x+w]   # Region of Interest in grayscale\n",
    "    roi_color = img[y:y+h, x:x+w]   # Region of Interest in color\n",
    "\n",
    "    # Step 5: Detect eyes inside the face\n",
    "    eyes = eye_cascade.detectMultiScale(roi_gray)\n",
    "    for (ex, ey, ew, eh) in eyes:\n",
    "        cv2.rectangle(roi_color, (ex, ey), (ex + ew, ey + eh), (0, 255, 0), 2)  # Green rectangle\n",
    "\n",
    "# Step 6: Show the result\n",
    "cv2.imshow(\"Face and Eyes Detection\", img)\n",
    "cv2.waitKey(0)\n",
    "cv2.destroyAllWindows()\n"
   ]
  },
  {
   "cell_type": "code",
   "execution_count": 15,
   "id": "adf36095-850d-46a5-a6c7-c414313cf0e9",
   "metadata": {},
   "outputs": [],
   "source": [
    "# Resizing Image\n",
    "img=cv2.imread(\"Addision.jpg\")\n",
    "resized=cv2.resize(img,(300,300))\n",
    "\n",
    "\n",
    "cv2.imshow(\"Resized Image\",resized)\n",
    "cv2.waitKey(0)\n",
    "cv2.destroyAllWindows()"
   ]
  },
  {
   "cell_type": "code",
   "execution_count": null,
   "id": "a1c21f99-1769-42b8-933d-6b17d6cbffa3",
   "metadata": {},
   "outputs": [],
   "source": []
  }
 ],
 "metadata": {
  "kernelspec": {
   "display_name": "Python 3 (ipykernel)",
   "language": "python",
   "name": "python3"
  },
  "language_info": {
   "codemirror_mode": {
    "name": "ipython",
    "version": 3
   },
   "file_extension": ".py",
   "mimetype": "text/x-python",
   "name": "python",
   "nbconvert_exporter": "python",
   "pygments_lexer": "ipython3",
   "version": "3.13.5"
  }
 },
 "nbformat": 4,
 "nbformat_minor": 5
}
